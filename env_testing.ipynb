{
 "cells": [
  {
   "cell_type": "code",
   "execution_count": 10,
   "metadata": {},
   "outputs": [
    {
     "name": "stdout",
     "output_type": "stream",
     "text": [
      "The autoreload extension is already loaded. To reload it, use:\n",
      "  %reload_ext autoreload\n"
     ]
    }
   ],
   "source": [
    "%load_ext autoreload\n",
    "%autoreload 2\n",
    "\n",
    "import jax\n",
    "from brax import envs\n",
    "from Rodent_Env_Brax import Rodent\n",
    "import pickle\n",
    "from preprocessing.mjx_preprocess import process_clip_to_train\n",
    "import pickle\n",
    "import os\n",
    "from matplotlib import pyplot as plt\n",
    "import numpy as np\n",
    "\n",
    "\n",
    "config = {\n",
    "    \"env_name\": \"rodent\",\n",
    "    \"algo_name\": \"ppo\",\n",
    "    \"task_name\": \"run\",\n",
    "    \"num_envs\": 16,\n",
    "    \"num_timesteps\": 500_000_000,\n",
    "    \"eval_every\": 5_000_000,\n",
    "    \"episode_length\": 200,\n",
    "    \"batch_size\": 16,\n",
    "    \"learning_rate\": 6e-4,\n",
    "    \"torque_actuators\": True,\n",
    "    \"physics_steps_per_control_step\": 5,\n",
    "    \"too_far_dist\": 1.0,\n",
    "    \"ctrl_cost_weight\": 0.01,\n",
    "    \"pos_reward_weight\": 3.0,\n",
    "    \"quat_reward_weight\": 1.0,\n",
    "    \"healthy_reward\": 0.25,\n",
    "    \"healthy_z_range\": (0.03, 0.5),\n",
    "    \"terminate_when_unhealthy\": False,\n",
    "    \"run_platform\": \"Harvard\",\n",
    "    \"solver\": \"cg\",\n",
    "    \"iterations\": 7,\n",
    "    \"ls_iterations\": 7,\n",
    "}\n",
    "\n",
    "envs.register_environment(\"rodent\", Rodent)\n",
    "\n",
    "reference_path = f\"clips/84.p\"\n",
    "\n",
    "with open(reference_path, \"rb\") as file:\n",
    "    # Use pickle.load() to load the data from the file\n",
    "    reference_clip = pickle.load(file)"
   ]
  },
  {
   "cell_type": "code",
   "execution_count": 11,
   "metadata": {},
   "outputs": [
    {
     "name": "stdout",
     "output_type": "stream",
     "text": [
      "self._steps_for_cur_frame: 2.0\n"
     ]
    }
   ],
   "source": [
    "# instantiate the environment\n",
    "env_name = config[\"env_name\"]\n",
    "env = envs.get_environment(\n",
    "    env_name,\n",
    "    track_pos=reference_clip.position,\n",
    "    track_quat=reference_clip.quaternion,\n",
    "    torque_actuators=config[\"torque_actuators\"],\n",
    "    terminate_when_unhealthy=config[\"terminate_when_unhealthy\"],\n",
    "    solver=config[\"solver\"],\n",
    "    iterations=config[\"iterations\"],\n",
    "    ls_iterations=config[\"ls_iterations\"],\n",
    "    too_far_dist=config[\"too_far_dist\"],\n",
    "    ctrl_cost_weight=config[\"ctrl_cost_weight\"],\n",
    "    pos_reward_weight=config[\"pos_reward_weight\"],\n",
    "    quat_reward_weight=config[\"quat_reward_weight\"],\n",
    "    healthy_reward=config[\"healthy_reward\"],\n",
    "    healthy_z_range=config[\"healthy_z_range\"],\n",
    "    physics_steps_per_control_step=config[\"physics_steps_per_control_step\"],\n",
    ")"
   ]
  },
  {
   "cell_type": "code",
   "execution_count": 12,
   "metadata": {},
   "outputs": [
    {
     "data": {
      "text/plain": [
       "74"
      ]
     },
     "execution_count": 12,
     "metadata": {},
     "output_type": "execute_result"
    }
   ],
   "source": [
    "env.sys.nq"
   ]
  },
  {
   "cell_type": "code",
   "execution_count": 13,
   "metadata": {},
   "outputs": [],
   "source": [
    "import custom_wrappers\n",
    "# Wrap the env in the brax autoreset and episode wrappers\n",
    "# rollout_env = envs.training.AutoResetWrapper(env)\n",
    "rollout_env = custom_wrappers.AutoResetWrapperTracking(\n",
    "    custom_wrappers.RenderRolloutWrapperTracking(env)\n",
    ")\n",
    "# define the jit reset/step functions\n",
    "jit_reset = jax.jit(rollout_env.reset)\n",
    "jit_step = jax.jit(rollout_env.step)"
   ]
  },
  {
   "cell_type": "code",
   "execution_count": 14,
   "metadata": {},
   "outputs": [],
   "source": [
    "key = jax.random.PRNGKey(0)\n",
    "state = jit_reset(key)"
   ]
  },
  {
   "cell_type": "code",
   "execution_count": 15,
   "metadata": {},
   "outputs": [
    {
     "data": {
      "text/plain": [
       "dict_keys(['cur_frame', 'first_cur_frame', 'first_obs', 'first_pipeline_state', 'first_steps_taken_cur_frame', 'steps_taken_cur_frame', 'summed_pos_distance'])"
      ]
     },
     "execution_count": 15,
     "metadata": {},
     "output_type": "execute_result"
    }
   ],
   "source": [
    "state.info.keys()"
   ]
  },
  {
   "cell_type": "code",
   "execution_count": 16,
   "metadata": {},
   "outputs": [],
   "source": [
    "from jax import numpy as jp\n",
    "rollout = []\n",
    "spd = []\n",
    "for _ in range(400):\n",
    "    _, key = jax.random.split(key)\n",
    "    # state = jit_step(state, jax.random.normal(key, (env.sys.nu,)))\n",
    "    state = jit_step(state, jp.zeros((env.sys.nu,)))\n",
    "\n",
    "    # print(state.info['cur_frame'], state.done)\n",
    "    # spd.append(state.info[\"summed_pos_distance\"])\n",
    "    rollout.append(state)"
   ]
  },
  {
   "cell_type": "code",
   "execution_count": null,
   "metadata": {},
   "outputs": [
    {
     "name": "stdout",
     "output_type": "stream",
     "text": [
      "2.999908\n",
      "0.000105205225\n"
     ]
    }
   ],
   "source": [
    "print([state.metrics[\"pos_reward\"] for state in rollout][0])\n",
    "print([state.info[\"summed_pos_distance\"] for state in rollout][0])"
   ]
  },
  {
   "cell_type": "code",
   "execution_count": 22,
   "metadata": {},
   "outputs": [
    {
     "name": "stdout",
     "output_type": "stream",
     "text": [
      "45 0.17518589 0.0010342624\n",
      "46 0.1740039 0.0010356187\n",
      "47 0.14245069 0.0011354182\n",
      "48 0.14140674 0.0011369821\n",
      "49 0.118520625 0.0012380662\n",
      "50 0.117734715 0.001239472\n",
      "51 0.09966092 0.0013342883\n",
      "52 0.099095985 0.0013355241\n",
      "53 0.08247027 0.0014529745\n",
      "54 0.08210924 0.0014538671\n",
      "55 0.06684441 0.0015810501\n",
      "56 0.066623256 0.0015816535\n",
      "57 0.051114492 0.001760601\n",
      "58 0.050974756 0.0017610962\n",
      "59 0.04046556 0.0019096059\n",
      "60 0.0403713 0.0019100383\n",
      "61 0.032484695 0.00204826\n",
      "62 0.032409083 0.0020487087\n",
      "63 0.027822118 0.0021448364\n",
      "64 0.027746562 0.0021454461\n",
      "65 0.026591621 0.0021704123\n",
      "66 0.02650785 0.0021712102\n",
      "67 0.026928678 0.0021506774\n",
      "68 0.026837625 0.0021516122\n",
      "69 0.028542358 0.0021057418\n",
      "70 0.028436929 0.0021067457\n",
      "71 0.03138823 0.0020394642\n",
      "72 0.031258106 0.0020407098\n",
      "73 0.033984467 0.0019912634\n",
      "74 0.03384511 0.0019925314\n",
      "75 0.037327148 0.0019292871\n",
      "76 0.037177794 0.0019305522\n",
      "77 0.03963769 0.0018837979\n",
      "78 0.039484624 0.0018850127\n",
      "79 0.04221716 0.0018308745\n",
      "80 0.04205576 0.0018321584\n",
      "81 0.044398412 0.0017947813\n",
      "82 0.044235736 0.0017959826\n",
      "83 0.045644566 0.0017727006\n",
      "84 0.045492224 0.0017737899\n",
      "85 0.045964323 0.001757224\n",
      "86 0.045805674 0.0017583779\n",
      "87 0.046529047 0.0017337075\n",
      "88 0.046381652 0.0017347656\n",
      "89 0.048337843 0.0016955014\n",
      "90 0.04818621 0.0016965283\n",
      "91 0.048198685 0.001676966\n",
      "92 0.04803592 0.001678182\n",
      "93 0.044997618 0.0016915773\n",
      "94 0.044850517 0.0016927203\n",
      "95 0.041157775 0.0017218314\n",
      "96 0.041018024 0.0017229875\n",
      "97 0.038884446 0.0017237333\n",
      "98 0.038745373 0.0017249894\n",
      "99 0.034435585 0.0017358562\n",
      "100 0.034313932 0.0017370352\n",
      "101 0.0283832 0.0017765868\n",
      "102 0.028284114 0.0017777714\n",
      "103 0.01874661 0.0020127126\n",
      "104 0.01867501 0.0020140724\n",
      "105 0.0086512 0.0025057967\n",
      "106 0.008617427 0.0025072393\n",
      "107 0.0036307513 0.0030433154\n",
      "108 0.0036151533 0.0030449345\n",
      "109 0.0013003913 0.0036916316\n",
      "110 0.0012946392 0.0036932519\n",
      "111 0.00037566648 0.004650784\n",
      "112 0.00037374286 0.004652809\n",
      "113 8.2606275e-05 0.006005717\n",
      "114 8.214905e-05 0.006007944\n",
      "115 1.9655883e-05 0.0072359233\n",
      "116 1.9546154e-05 0.0072382046\n",
      "117 3.929831e-06 0.008655008\n",
      "118 3.9060446e-06 0.008657628\n",
      "119 5.810104e-07 0.0101126265\n",
      "120 5.772355e-07 0.010115411\n",
      "121 4.0578453e-08 0.011837693\n",
      "122 4.0286174e-08 0.011840716\n",
      "123 1.714369e-09 0.013703846\n",
      "124 1.7010957e-09 0.013707035\n",
      "125 5.8720015e-11 0.01580568\n",
      "126 5.8214406e-11 0.015809454\n",
      "127 6.452279e-12 0.018996926\n",
      "128 6.396184e-12 0.019000826\n",
      "129 7.4682854e-13 0.02252592\n",
      "130 7.395976e-13 0.022530697\n",
      "131 1.0982343e-13 0.024940273\n",
      "132 1.08749943e-13 0.024944382\n",
      "133 2.2590497e-14 0.027834445\n",
      "134 2.2363964e-14 0.027839031\n",
      "135 3.2797196e-15 0.031341106\n",
      "136 3.2465464e-15 0.031345557\n",
      "137 2.4242236e-16 0.03512982\n",
      "138 2.3989712e-16 0.035134334\n",
      "139 8.643898e-18 0.039308093\n",
      "140 8.548083e-18 0.039313365\n",
      "141 1.2573091e-19 0.044640277\n",
      "142 1.2423386e-19 0.04464562\n",
      "143 1.7948305e-21 0.04998853\n",
      "144 1.7733314e-21 0.049994193\n",
      "145 7.69706e-23 0.052522875\n",
      "146 7.603934e-23 0.052528583\n",
      "147 2.125046e-24 0.055782013\n",
      "148 2.0971581e-24 0.05578825\n",
      "149 1.1561605e-25 0.059441492\n",
      "150 1.140422e-25 0.059448395\n",
      "151 2.8709029e-27 0.06377343\n",
      "152 2.8300616e-27 0.0637799\n",
      "153 7.792254e-29 0.06786289\n",
      "154 7.678825e-29 0.06786987\n",
      "155 3.5604144e-30 0.071765825\n",
      "156 3.5048408e-30 0.07177305\n",
      "157 1.628789e-31 0.07635333\n",
      "158 1.6025585e-31 0.07636054\n",
      "159 6.184801e-33 0.08095561\n",
      "160 6.085849e-33 0.08096379\n",
      "161 3.977106e-34 0.08564243\n",
      "162 3.9092387e-34 0.0856503\n",
      "163 8.0541934e-35 0.09001595\n",
      "164 7.915362e-35 0.09002385\n",
      "165 3.011194e-35 0.093068816\n",
      "166 2.9607575e-35 0.0930767\n",
      "167 1.2137675e-35 0.09604429\n",
      "168 1.1937834e-35 0.09605146\n",
      "169 4.9206675e-36 0.09797862\n",
      "170 4.8388015e-36 0.097986035\n",
      "171 2.3347381e-36 0.09967604\n",
      "172 2.2952467e-36 0.09968419\n",
      "173 1.4213832e-36 0.10149736\n",
      "174 1.3966269e-36 0.101505294\n",
      "175 8.262439e-37 0.102852695\n",
      "176 8.108442e-37 0.102861464\n",
      "177 3.987202e-37 0.10395442\n",
      "178 3.912142e-37 0.103963\n",
      "179 1.2479748e-37 0.105447985\n",
      "180 1.224584e-37 0.10545733\n",
      "181 0.0 0.10735283\n",
      "182 0.0 0.107361086\n",
      "183 0.0 0.10936607\n",
      "184 0.0 0.10937395\n",
      "185 0.0 0.1120108\n",
      "186 0.0 0.11201884\n",
      "187 0.0 0.11492572\n",
      "188 0.0 0.1149341\n",
      "189 0.0 0.11717166\n",
      "190 0.0 0.117181376\n",
      "191 0.0 0.11900797\n",
      "192 0.0 0.11901683\n",
      "193 0.0 0.12119897\n",
      "194 0.0 0.12120859\n",
      "195 0.0 0.12354255\n",
      "196 0.0 0.12355195\n",
      "197 0.0 0.12501782\n",
      "198 0.0 0.12502699\n",
      "199 0.0 0.12662232\n",
      "200 0.0 0.12663184\n",
      "201 0.0 0.12902614\n",
      "202 0.0 0.12903501\n",
      "203 0.0 0.13208136\n",
      "204 0.0 0.13209003\n",
      "205 0.0 0.13533464\n",
      "206 0.0 0.13534443\n",
      "207 0.0 0.13828337\n",
      "208 0.0 0.13829267\n",
      "209 0.0 0.14043844\n",
      "210 0.0 0.14044823\n",
      "211 0.0 0.1427544\n",
      "212 0.0 0.14276457\n",
      "213 0.0 0.1452506\n",
      "214 0.0 0.14525968\n",
      "215 0.0 0.14696518\n",
      "216 0.0 0.14697406\n",
      "217 0.0 0.14828426\n",
      "218 0.0 0.14829466\n",
      "219 0.0 0.15047628\n",
      "220 0.0 0.15048572\n",
      "221 0.0 0.15283419\n",
      "222 0.0 0.15284288\n",
      "223 0.0 0.1549436\n",
      "224 0.0 0.15495336\n",
      "225 0.0 0.15720426\n",
      "226 0.0 0.15721375\n",
      "227 0.0 0.15933734\n",
      "228 0.0 0.15934658\n",
      "229 0.0 0.16105822\n",
      "230 0.0 0.16106753\n",
      "231 0.0 0.16293693\n",
      "232 0.0 0.16294779\n",
      "233 0.0 0.16520748\n",
      "234 0.0 0.16521744\n",
      "235 0.0 0.16727115\n",
      "236 0.0 0.16728157\n",
      "237 0.0 0.16924731\n",
      "238 0.0 0.16925748\n",
      "239 0.0 0.17191413\n",
      "240 0.0 0.17192364\n",
      "241 0.0 0.17428409\n",
      "242 0.0 0.17429411\n",
      "243 0.0 0.1767271\n",
      "244 0.0 0.17673737\n",
      "245 0.0 0.17911747\n",
      "246 0.0 0.17912742\n",
      "247 0.0 0.18193513\n",
      "248 0.0 0.18194541\n",
      "249 0.0 0.18453592\n",
      "250 0.0 0.1845466\n",
      "251 0.0 0.18619874\n",
      "252 0.0 0.18620971\n",
      "253 0.0 0.18710206\n",
      "254 0.0 0.18711182\n",
      "255 0.0 0.18834718\n",
      "256 0.0 0.18835765\n",
      "257 0.0 0.19099696\n",
      "258 0.0 0.19100739\n",
      "259 0.0 0.19295175\n",
      "260 0.0 0.19296189\n",
      "261 0.0 0.19423509\n",
      "262 0.0 0.19424419\n",
      "263 0.0 0.19478443\n",
      "264 0.0 0.1947934\n",
      "265 0.0 0.19588426\n",
      "266 0.0 0.19589332\n",
      "267 0.0 0.19791088\n",
      "268 0.0 0.19791955\n",
      "269 0.0 0.19987792\n",
      "270 0.0 0.19988738\n",
      "271 1.4136661e-37 0.20230551\n",
      "272 1.3802971e-37 0.20231542\n",
      "273 5.3432264e-37 0.20617165\n",
      "274 5.2150724e-37 0.20618035\n",
      "275 8.5764854e-36 0.21133582\n",
      "276 8.368676e-36 0.2113454\n",
      "277 1.1629361e-34 0.21739352\n",
      "278 1.1340224e-34 0.2174039\n",
      "279 2.6978286e-34 0.22376211\n",
      "280 2.6326608e-34 0.22377057\n",
      "281 3.2602164e-34 0.2297474\n",
      "282 3.1778007e-34 0.22975633\n",
      "283 3.997915e-34 0.2326889\n",
      "284 3.898933e-34 0.23269811\n",
      "285 6.9567e-34 0.23517768\n",
      "286 6.779909e-34 0.23518614\n",
      "287 1.2291168e-33 0.23808603\n",
      "288 1.1981736e-33 0.23809539\n",
      "289 7.2445695e-33 0.24136342\n",
      "290 7.063911e-33 0.24137335\n",
      "291 1.3558674e-31 0.2451611\n",
      "292 1.3226613e-31 0.24516994\n",
      "293 1.3654757e-30 0.24846587\n",
      "294 1.3313131e-30 0.2484746\n",
      "295 2.7290226e-29 0.25149664\n",
      "296 2.661659e-29 0.25150448\n",
      "297 2.8064625e-28 0.25564072\n",
      "298 2.738399e-28 0.25564793\n",
      "299 3.685089e-27 0.26136687\n",
      "300 3.598557e-27 0.26137438\n",
      "301 9.967715e-26 0.26455238\n",
      "302 9.7338416e-26 0.2645608\n",
      "303 1.820035e-24 0.2645389\n",
      "304 1.7784707e-24 0.2645445\n",
      "305 5.295821e-23 0.26374668\n",
      "306 5.1771704e-23 0.26375425\n",
      "307 1.0313531e-21 0.26467368\n",
      "308 1.0085809e-21 0.2646792\n",
      "309 1.0194625e-20 0.26698405\n",
      "310 9.9813615e-21 0.26699105\n",
      "311 5.8939456e-20 0.26984632\n",
      "312 5.766402e-20 0.2698531\n",
      "313 3.1398318e-19 0.27253732\n",
      "314 3.073375e-19 0.27254462\n",
      "315 2.9944046e-18 0.27774516\n",
      "316 2.9332408e-18 0.2777517\n",
      "317 8.5484133e-17 0.28332797\n",
      "318 8.372046e-17 0.28333426\n",
      "319 2.184206e-15 0.2895798\n",
      "320 2.1408813e-15 0.28958553\n",
      "321 1.7718367e-14 0.29700077\n",
      "322 1.7383684e-14 0.29700625\n",
      "323 7.285712e-14 0.30310774\n",
      "324 7.148938e-14 0.30311325\n",
      "325 1.3773605e-13 0.30784333\n",
      "326 1.3511322e-13 0.30784848\n",
      "327 1.0535903e-13 0.313433\n",
      "328 1.0333973e-13 0.31343713\n",
      "329 1.5374977e-13 0.3166549\n",
      "330 1.5076478e-13 0.31665906\n",
      "331 1.5845381e-12 0.31814632\n",
      "332 1.5544892e-12 0.31815293\n",
      "333 1.6840486e-11 0.32026657\n",
      "334 1.6535122e-11 0.32027125\n",
      "335 2.5011748e-10 0.32090136\n",
      "336 2.457429e-10 0.32090607\n",
      "337 5.943503e-09 0.322876\n",
      "338 5.8471183e-09 0.32287884\n",
      "339 3.7507967e-08 0.32457432\n",
      "340 3.691632e-08 0.32457894\n",
      "341 3.4976628e-07 0.3231332\n",
      "342 3.4466495e-07 0.3231355\n",
      "343 1.3286618e-06 0.3209878\n",
      "344 1.309256e-06 0.32098904\n",
      "345 2.626281e-06 0.31931025\n",
      "346 2.5879524e-06 0.31931087\n",
      "347 7.293201e-06 0.31936\n",
      "348 7.1926515e-06 0.31936198\n",
      "349 2.0876978e-05 0.31992283\n",
      "350 2.0591115e-05 0.3199247\n",
      "351 7.592156e-05 0.32041702\n",
      "352 7.495966e-05 0.32041952\n",
      "353 0.000334285 0.321865\n",
      "354 0.00033034917 0.32186502\n",
      "355 0.0012044496 0.32355276\n",
      "356 0.0011904819 0.32355353\n",
      "357 0.004245948 0.32431507\n",
      "358 0.004201068 0.32431898\n",
      "359 0.01167411 0.325049\n",
      "360 0.011557065 0.3250502\n",
      "361 0.040829964 0.32766598\n",
      "362 0.04045736 0.32766742\n",
      "363 0.15314594 0.3304831\n",
      "364 0.15192273 0.33048496\n",
      "365 0.2465285 0.33184722\n",
      "366 0.24466303 0.3318456\n",
      "367 0.27849746 0.33655486\n",
      "368 0.27639616 0.33655253\n",
      "369 0.37222707 0.34063464\n",
      "370 0.3694297 0.34063572\n",
      "371 0.6584437 0.34036627\n",
      "372 0.65413654 0.34036627\n",
      "373 0.97850955 0.33744636\n",
      "374 0.9727392 0.3374441\n",
      "375 1.2559514 0.33273476\n",
      "376 1.2490946 0.33273095\n",
      "377 1.5352267 0.32867885\n",
      "378 1.5276171 0.3286744\n",
      "379 2.2162843 0.3258121\n",
      "380 2.2097359 0.32580882\n",
      "381 2.7035384 0.3226456\n",
      "382 2.6995714 0.3226402\n",
      "383 2.9637532 0.3188686\n",
      "384 2.9624786 0.31886408\n",
      "385 2.9845524 0.31385022\n",
      "386 2.9852896 0.31384787\n",
      "387 2.8574061 0.30828562\n",
      "388 2.8595881 0.30827928\n",
      "389 2.7263224 0.30538765\n",
      "390 2.729239 0.3053832\n",
      "391 2.6484506 0.30239344\n",
      "392 2.6517498 0.30238992\n",
      "393 2.5370252 0.29977334\n",
      "394 2.5408812 0.29976904\n",
      "395 2.320671 0.29840598\n",
      "396 2.3251998 0.29840183\n",
      "397 2.013288 0.29726458\n",
      "398 2.0181105 0.29725865\n",
      "399 1.7443712 0.29633787\n"
     ]
    }
   ],
   "source": [
    "for i, (r, d) in enumerate(zip([state.metrics[\"pos_reward\"] for state in rollout], [state.info[\"summed_pos_distance\"] for state in rollout])):\n",
    "    if d > 0.001:\n",
    "        print(i, r, d)"
   ]
  },
  {
   "cell_type": "code",
   "execution_count": 18,
   "metadata": {},
   "outputs": [
    {
     "data": {
      "image/png": "[encoded data removed]",
      "text/plain": [
       "<Figure size 640x480 with 1 Axes>"
      ]
     },
     "metadata": {},
     "output_type": "display_data"
    }
   ],
   "source": [
    "\n",
    "plt.plot([state.metrics[\"pos_reward\"] for state in rollout], label=\"pos_reward\")\n",
    "plt.plot([state.info[\"summed_pos_distance\"] for state in rollout], label=\"summed_pos_distance\")\n",
    "plt.yscale('log')\n",
    "plt.legend()\n",
    "plt.show()"
   ]
  },
  {
   "cell_type": "code",
   "execution_count": 34,
   "metadata": {},
   "outputs": [
    {
     "data": {
      "text/plain": [
       "(400,)"
      ]
     },
     "execution_count": 34,
     "metadata": {},
     "output_type": "execute_result"
    }
   ],
   "source": [
    "np.array([state.done for state in rollout]).shape"
   ]
  },
  {
   "cell_type": "code",
   "execution_count": 17,
   "metadata": {},
   "outputs": [
    {
     "data": {
      "text/plain": [
       "Array(0, dtype=int32, weak_type=True)"
      ]
     },
     "execution_count": 17,
     "metadata": {},
     "output_type": "execute_result"
    }
   ],
   "source": [
    "rollout[0].info[\"cur_frame\"]"
   ]
  },
  {
   "cell_type": "code",
   "execution_count": 19,
   "metadata": {},
   "outputs": [
    {
     "data": {
      "text/plain": [
       "(500, 74)"
      ]
     },
     "execution_count": 19,
     "metadata": {},
     "output_type": "execute_result"
    }
   ],
   "source": [
    "qposes_rollout = np.array([state.pipeline_state.qpos for state in rollout])\n",
    "def f(x):\n",
    "    if len(x.shape) != 1:\n",
    "        return jax.lax.dynamic_slice_in_dim(\n",
    "            x,\n",
    "            0,\n",
    "            250,\n",
    "        )\n",
    "    return jp.array([])\n",
    "\n",
    "ref_traj = jax.tree_util.tree_map(f, reference_clip)\n",
    "qposes_ref = np.repeat(\n",
    "    np.hstack([ref_traj.position, ref_traj.quaternion, ref_traj.joints]),\n",
    "    env._steps_for_cur_frame,\n",
    "    axis=0\n",
    ")\n",
    "done_array = np.array([state.done for state in rollout])\n",
    "reset_indices = np.where(done_array == 1.0)[0]\n",
    "if reset_indices.shape[0] == 0:\n",
    "    aligned_traj = qposes_ref\n",
    "else:\n",
    "    aligned_traj = np.zeros_like(qposes_rollout)\n",
    "    # Set the first segment\n",
    "    aligned_traj[: reset_indices[0] + 1] = qposes_ref[: reset_indices[0] + 1]\n",
    "\n",
    "    # Iterate through reset points\n",
    "    for i in range(len(reset_indices) - 1):\n",
    "        start = reset_indices[i] + 1\n",
    "        end = reset_indices[i + 1] + 1\n",
    "        length = end - start\n",
    "        aligned_traj[start:end] = qposes_ref[:length]\n",
    "\n",
    "    # Set the last segment\n",
    "    if reset_indices[-1] < len(done_array) - 1:\n",
    "        start = reset_indices[-1] + 1\n",
    "        length = len(done_array) - start\n",
    "        aligned_traj[start:] = qposes_ref[:length]"
   ]
  },
  {
   "cell_type": "code",
   "execution_count": 78,
   "metadata": {},
   "outputs": [
    {
     "name": "stderr",
     "output_type": "stream",
     "text": [
      "/var/folders/f1/rpl_f5_j46q42cptb030mpnr0000gn/T/ipykernel_50894/1694198976.py:33: UserWarning: frames=<zip object at 0x1589e80c0> which we can infer the length of, did not pass an explicit *save_count* and passed cache_frame_data=True.  To avoid a possibly unbounded cache, frame data caching has been disabled. To suppress this warning either pass `cache_frame_data=False` or `save_count=MAX_FRAMES`.\n",
      "  ani = animation.FuncAnimation(fig, update, frames=zip(rollout, env._track_pos), interval=50, blit=True)\n"
     ]
    },
    {
     "ename": "AssertionError",
     "evalue": "",
     "output_type": "error",
     "traceback": [
      "\u001b[0;31m---------------------------------------------------------------------------\u001b[0m",
      "\u001b[0;31mAssertionError\u001b[0m                            Traceback (most recent call last)",
      "Cell \u001b[0;32mIn[78], line 33\u001b[0m\n\u001b[1;32m     30\u001b[0m     \u001b[38;5;28;01mreturn\u001b[39;00m ref, rol\n\u001b[1;32m     32\u001b[0m \u001b[38;5;66;03m# Create the animation\u001b[39;00m\n\u001b[0;32m---> 33\u001b[0m ani \u001b[38;5;241m=\u001b[39m \u001b[43manimation\u001b[49m\u001b[38;5;241;43m.\u001b[39;49m\u001b[43mFuncAnimation\u001b[49m\u001b[43m(\u001b[49m\u001b[43mfig\u001b[49m\u001b[43m,\u001b[49m\u001b[43m \u001b[49m\u001b[43mupdate\u001b[49m\u001b[43m,\u001b[49m\u001b[43m \u001b[49m\u001b[43mframes\u001b[49m\u001b[38;5;241;43m=\u001b[39;49m\u001b[38;5;28;43mzip\u001b[39;49m\u001b[43m(\u001b[49m\u001b[43mrollout\u001b[49m\u001b[43m,\u001b[49m\u001b[43m \u001b[49m\u001b[43menv\u001b[49m\u001b[38;5;241;43m.\u001b[39;49m\u001b[43m_track_pos\u001b[49m\u001b[43m)\u001b[49m\u001b[43m,\u001b[49m\u001b[43m \u001b[49m\u001b[43minterval\u001b[49m\u001b[38;5;241;43m=\u001b[39;49m\u001b[38;5;241;43m50\u001b[39;49m\u001b[43m,\u001b[49m\u001b[43m \u001b[49m\u001b[43mblit\u001b[49m\u001b[38;5;241;43m=\u001b[39;49m\u001b[38;5;28;43;01mTrue\u001b[39;49;00m\u001b[43m)\u001b[49m\n\u001b[1;32m     35\u001b[0m \u001b[38;5;66;03m# Save the animation as a GIF\u001b[39;00m\n\u001b[1;32m     36\u001b[0m ani\u001b[38;5;241m.\u001b[39msave(\u001b[38;5;124m'\u001b[39m\u001b[38;5;124mrat_position_tracking.gif\u001b[39m\u001b[38;5;124m'\u001b[39m, writer\u001b[38;5;241m=\u001b[39m\u001b[38;5;124m'\u001b[39m\u001b[38;5;124mpillow\u001b[39m\u001b[38;5;124m'\u001b[39m, fps\u001b[38;5;241m=\u001b[39m\u001b[38;5;241m100\u001b[39m)\n",
      "File \u001b[0;32m~/miniforge3/envs/rl/lib/python3.11/site-packages/matplotlib/animation.py:1695\u001b[0m, in \u001b[0;36mFuncAnimation.__init__\u001b[0;34m(self, fig, func, frames, init_func, fargs, save_count, cache_frame_data, **kwargs)\u001b[0m\n\u001b[1;32m   1692\u001b[0m \u001b[38;5;66;03m# Needs to be initialized so the draw functions work without checking\u001b[39;00m\n\u001b[1;32m   1693\u001b[0m \u001b[38;5;28mself\u001b[39m\u001b[38;5;241m.\u001b[39m_save_seq \u001b[38;5;241m=\u001b[39m []\n\u001b[0;32m-> 1695\u001b[0m \u001b[38;5;28;43msuper\u001b[39;49m\u001b[43m(\u001b[49m\u001b[43m)\u001b[49m\u001b[38;5;241;43m.\u001b[39;49m\u001b[38;5;21;43m__init__\u001b[39;49m\u001b[43m(\u001b[49m\u001b[43mfig\u001b[49m\u001b[43m,\u001b[49m\u001b[43m \u001b[49m\u001b[38;5;241;43m*\u001b[39;49m\u001b[38;5;241;43m*\u001b[39;49m\u001b[43mkwargs\u001b[49m\u001b[43m)\u001b[49m\n\u001b[1;32m   1697\u001b[0m \u001b[38;5;66;03m# Need to reset the saved seq, since right now it will contain data\u001b[39;00m\n\u001b[1;32m   1698\u001b[0m \u001b[38;5;66;03m# for a single frame from init, which is not what we want.\u001b[39;00m\n\u001b[1;32m   1699\u001b[0m \u001b[38;5;28mself\u001b[39m\u001b[38;5;241m.\u001b[39m_save_seq \u001b[38;5;241m=\u001b[39m []\n",
      "File \u001b[0;32m~/miniforge3/envs/rl/lib/python3.11/site-packages/matplotlib/animation.py:1417\u001b[0m, in \u001b[0;36mTimedAnimation.__init__\u001b[0;34m(self, fig, interval, repeat_delay, repeat, event_source, *args, **kwargs)\u001b[0m\n\u001b[1;32m   1415\u001b[0m \u001b[38;5;28;01mif\u001b[39;00m event_source \u001b[38;5;129;01mis\u001b[39;00m \u001b[38;5;28;01mNone\u001b[39;00m:\n\u001b[1;32m   1416\u001b[0m     event_source \u001b[38;5;241m=\u001b[39m fig\u001b[38;5;241m.\u001b[39mcanvas\u001b[38;5;241m.\u001b[39mnew_timer(interval\u001b[38;5;241m=\u001b[39m\u001b[38;5;28mself\u001b[39m\u001b[38;5;241m.\u001b[39m_interval)\n\u001b[0;32m-> 1417\u001b[0m \u001b[38;5;28;43msuper\u001b[39;49m\u001b[43m(\u001b[49m\u001b[43m)\u001b[49m\u001b[38;5;241;43m.\u001b[39;49m\u001b[38;5;21;43m__init__\u001b[39;49m\u001b[43m(\u001b[49m\u001b[43mfig\u001b[49m\u001b[43m,\u001b[49m\u001b[43m \u001b[49m\u001b[43mevent_source\u001b[49m\u001b[38;5;241;43m=\u001b[39;49m\u001b[43mevent_source\u001b[49m\u001b[43m,\u001b[49m\u001b[43m \u001b[49m\u001b[38;5;241;43m*\u001b[39;49m\u001b[43margs\u001b[49m\u001b[43m,\u001b[49m\u001b[43m \u001b[49m\u001b[38;5;241;43m*\u001b[39;49m\u001b[38;5;241;43m*\u001b[39;49m\u001b[43mkwargs\u001b[49m\u001b[43m)\u001b[49m\n",
      "File \u001b[0;32m~/miniforge3/envs/rl/lib/python3.11/site-packages/matplotlib/animation.py:888\u001b[0m, in \u001b[0;36mAnimation.__init__\u001b[0;34m(self, fig, event_source, blit)\u001b[0m\n\u001b[1;32m    885\u001b[0m \u001b[38;5;28mself\u001b[39m\u001b[38;5;241m.\u001b[39m_close_id \u001b[38;5;241m=\u001b[39m \u001b[38;5;28mself\u001b[39m\u001b[38;5;241m.\u001b[39m_fig\u001b[38;5;241m.\u001b[39mcanvas\u001b[38;5;241m.\u001b[39mmpl_connect(\u001b[38;5;124m'\u001b[39m\u001b[38;5;124mclose_event\u001b[39m\u001b[38;5;124m'\u001b[39m,\n\u001b[1;32m    886\u001b[0m                                               \u001b[38;5;28mself\u001b[39m\u001b[38;5;241m.\u001b[39m_stop)\n\u001b[1;32m    887\u001b[0m \u001b[38;5;28;01mif\u001b[39;00m \u001b[38;5;28mself\u001b[39m\u001b[38;5;241m.\u001b[39m_blit:\n\u001b[0;32m--> 888\u001b[0m     \u001b[38;5;28;43mself\u001b[39;49m\u001b[38;5;241;43m.\u001b[39;49m\u001b[43m_setup_blit\u001b[49m\u001b[43m(\u001b[49m\u001b[43m)\u001b[49m\n",
      "File \u001b[0;32m~/miniforge3/envs/rl/lib/python3.11/site-packages/matplotlib/animation.py:1211\u001b[0m, in \u001b[0;36mAnimation._setup_blit\u001b[0;34m(self)\u001b[0m\n\u001b[1;32m   1209\u001b[0m \u001b[38;5;28mself\u001b[39m\u001b[38;5;241m.\u001b[39m_drawn_artists \u001b[38;5;241m=\u001b[39m []\n\u001b[1;32m   1210\u001b[0m \u001b[38;5;66;03m# _post_draw needs to be called first to initialize the renderer\u001b[39;00m\n\u001b[0;32m-> 1211\u001b[0m \u001b[38;5;28;43mself\u001b[39;49m\u001b[38;5;241;43m.\u001b[39;49m\u001b[43m_post_draw\u001b[49m\u001b[43m(\u001b[49m\u001b[38;5;28;43;01mNone\u001b[39;49;00m\u001b[43m,\u001b[49m\u001b[43m \u001b[49m\u001b[38;5;28;43mself\u001b[39;49m\u001b[38;5;241;43m.\u001b[39;49m\u001b[43m_blit\u001b[49m\u001b[43m)\u001b[49m\n\u001b[1;32m   1212\u001b[0m \u001b[38;5;66;03m# Then we need to clear the Frame for the initial draw\u001b[39;00m\n\u001b[1;32m   1213\u001b[0m \u001b[38;5;66;03m# This is typically handled in _on_resize because QT and Tk\u001b[39;00m\n\u001b[1;32m   1214\u001b[0m \u001b[38;5;66;03m# emit a resize event on launch, but the macosx backend does not,\u001b[39;00m\n\u001b[1;32m   1215\u001b[0m \u001b[38;5;66;03m# thus we force it here for everyone for consistency\u001b[39;00m\n\u001b[1;32m   1216\u001b[0m \u001b[38;5;28mself\u001b[39m\u001b[38;5;241m.\u001b[39m_init_draw()\n",
      "File \u001b[0;32m~/miniforge3/envs/rl/lib/python3.11/site-packages/matplotlib/animation.py:1166\u001b[0m, in \u001b[0;36mAnimation._post_draw\u001b[0;34m(self, framedata, blit)\u001b[0m\n\u001b[1;32m   1164\u001b[0m     \u001b[38;5;28mself\u001b[39m\u001b[38;5;241m.\u001b[39m_blit_draw(\u001b[38;5;28mself\u001b[39m\u001b[38;5;241m.\u001b[39m_drawn_artists)\n\u001b[1;32m   1165\u001b[0m \u001b[38;5;28;01melse\u001b[39;00m:\n\u001b[0;32m-> 1166\u001b[0m     \u001b[38;5;28;43mself\u001b[39;49m\u001b[38;5;241;43m.\u001b[39;49m\u001b[43m_fig\u001b[49m\u001b[38;5;241;43m.\u001b[39;49m\u001b[43mcanvas\u001b[49m\u001b[38;5;241;43m.\u001b[39;49m\u001b[43mdraw_idle\u001b[49m\u001b[43m(\u001b[49m\u001b[43m)\u001b[49m\n",
      "File \u001b[0;32m~/miniforge3/envs/rl/lib/python3.11/site-packages/matplotlib/backend_bases.py:1893\u001b[0m, in \u001b[0;36mFigureCanvasBase.draw_idle\u001b[0;34m(self, *args, **kwargs)\u001b[0m\n\u001b[1;32m   1891\u001b[0m \u001b[38;5;28;01mif\u001b[39;00m \u001b[38;5;129;01mnot\u001b[39;00m \u001b[38;5;28mself\u001b[39m\u001b[38;5;241m.\u001b[39m_is_idle_drawing:\n\u001b[1;32m   1892\u001b[0m     \u001b[38;5;28;01mwith\u001b[39;00m \u001b[38;5;28mself\u001b[39m\u001b[38;5;241m.\u001b[39m_idle_draw_cntx():\n\u001b[0;32m-> 1893\u001b[0m         \u001b[38;5;28;43mself\u001b[39;49m\u001b[38;5;241;43m.\u001b[39;49m\u001b[43mdraw\u001b[49m\u001b[43m(\u001b[49m\u001b[38;5;241;43m*\u001b[39;49m\u001b[43margs\u001b[49m\u001b[43m,\u001b[49m\u001b[43m \u001b[49m\u001b[38;5;241;43m*\u001b[39;49m\u001b[38;5;241;43m*\u001b[39;49m\u001b[43mkwargs\u001b[49m\u001b[43m)\u001b[49m\n",
      "File \u001b[0;32m~/miniforge3/envs/rl/lib/python3.11/site-packages/matplotlib/backends/backend_agg.py:388\u001b[0m, in \u001b[0;36mFigureCanvasAgg.draw\u001b[0;34m(self)\u001b[0m\n\u001b[1;32m    385\u001b[0m \u001b[38;5;66;03m# Acquire a lock on the shared font cache.\u001b[39;00m\n\u001b[1;32m    386\u001b[0m \u001b[38;5;28;01mwith\u001b[39;00m (\u001b[38;5;28mself\u001b[39m\u001b[38;5;241m.\u001b[39mtoolbar\u001b[38;5;241m.\u001b[39m_wait_cursor_for_draw_cm() \u001b[38;5;28;01mif\u001b[39;00m \u001b[38;5;28mself\u001b[39m\u001b[38;5;241m.\u001b[39mtoolbar\n\u001b[1;32m    387\u001b[0m       \u001b[38;5;28;01melse\u001b[39;00m nullcontext()):\n\u001b[0;32m--> 388\u001b[0m     \u001b[38;5;28;43mself\u001b[39;49m\u001b[38;5;241;43m.\u001b[39;49m\u001b[43mfigure\u001b[49m\u001b[38;5;241;43m.\u001b[39;49m\u001b[43mdraw\u001b[49m\u001b[43m(\u001b[49m\u001b[38;5;28;43mself\u001b[39;49m\u001b[38;5;241;43m.\u001b[39;49m\u001b[43mrenderer\u001b[49m\u001b[43m)\u001b[49m\n\u001b[1;32m    389\u001b[0m     \u001b[38;5;66;03m# A GUI class may be need to update a window using this draw, so\u001b[39;00m\n\u001b[1;32m    390\u001b[0m     \u001b[38;5;66;03m# don't forget to call the superclass.\u001b[39;00m\n\u001b[1;32m    391\u001b[0m     \u001b[38;5;28msuper\u001b[39m()\u001b[38;5;241m.\u001b[39mdraw()\n",
      "File \u001b[0;32m~/miniforge3/envs/rl/lib/python3.11/site-packages/matplotlib/artist.py:95\u001b[0m, in \u001b[0;36m_finalize_rasterization.<locals>.draw_wrapper\u001b[0;34m(artist, renderer, *args, **kwargs)\u001b[0m\n\u001b[1;32m     93\u001b[0m \u001b[38;5;129m@wraps\u001b[39m(draw)\n\u001b[1;32m     94\u001b[0m \u001b[38;5;28;01mdef\u001b[39;00m \u001b[38;5;21mdraw_wrapper\u001b[39m(artist, renderer, \u001b[38;5;241m*\u001b[39margs, \u001b[38;5;241m*\u001b[39m\u001b[38;5;241m*\u001b[39mkwargs):\n\u001b[0;32m---> 95\u001b[0m     result \u001b[38;5;241m=\u001b[39m \u001b[43mdraw\u001b[49m\u001b[43m(\u001b[49m\u001b[43martist\u001b[49m\u001b[43m,\u001b[49m\u001b[43m \u001b[49m\u001b[43mrenderer\u001b[49m\u001b[43m,\u001b[49m\u001b[43m \u001b[49m\u001b[38;5;241;43m*\u001b[39;49m\u001b[43margs\u001b[49m\u001b[43m,\u001b[49m\u001b[43m \u001b[49m\u001b[38;5;241;43m*\u001b[39;49m\u001b[38;5;241;43m*\u001b[39;49m\u001b[43mkwargs\u001b[49m\u001b[43m)\u001b[49m\n\u001b[1;32m     96\u001b[0m     \u001b[38;5;28;01mif\u001b[39;00m renderer\u001b[38;5;241m.\u001b[39m_rasterizing:\n\u001b[1;32m     97\u001b[0m         renderer\u001b[38;5;241m.\u001b[39mstop_rasterizing()\n",
      "File \u001b[0;32m~/miniforge3/envs/rl/lib/python3.11/site-packages/matplotlib/artist.py:72\u001b[0m, in \u001b[0;36mallow_rasterization.<locals>.draw_wrapper\u001b[0;34m(artist, renderer)\u001b[0m\n\u001b[1;32m     69\u001b[0m     \u001b[38;5;28;01mif\u001b[39;00m artist\u001b[38;5;241m.\u001b[39mget_agg_filter() \u001b[38;5;129;01mis\u001b[39;00m \u001b[38;5;129;01mnot\u001b[39;00m \u001b[38;5;28;01mNone\u001b[39;00m:\n\u001b[1;32m     70\u001b[0m         renderer\u001b[38;5;241m.\u001b[39mstart_filter()\n\u001b[0;32m---> 72\u001b[0m     \u001b[38;5;28;01mreturn\u001b[39;00m \u001b[43mdraw\u001b[49m\u001b[43m(\u001b[49m\u001b[43martist\u001b[49m\u001b[43m,\u001b[49m\u001b[43m \u001b[49m\u001b[43mrenderer\u001b[49m\u001b[43m)\u001b[49m\n\u001b[1;32m     73\u001b[0m \u001b[38;5;28;01mfinally\u001b[39;00m:\n\u001b[1;32m     74\u001b[0m     \u001b[38;5;28;01mif\u001b[39;00m artist\u001b[38;5;241m.\u001b[39mget_agg_filter() \u001b[38;5;129;01mis\u001b[39;00m \u001b[38;5;129;01mnot\u001b[39;00m \u001b[38;5;28;01mNone\u001b[39;00m:\n",
      "File \u001b[0;32m~/miniforge3/envs/rl/lib/python3.11/site-packages/matplotlib/figure.py:3164\u001b[0m, in \u001b[0;36mFigure.draw\u001b[0;34m(self, renderer)\u001b[0m\n\u001b[1;32m   3161\u001b[0m \u001b[38;5;28;01mfinally\u001b[39;00m:\n\u001b[1;32m   3162\u001b[0m     \u001b[38;5;28mself\u001b[39m\u001b[38;5;241m.\u001b[39mstale \u001b[38;5;241m=\u001b[39m \u001b[38;5;28;01mFalse\u001b[39;00m\n\u001b[0;32m-> 3164\u001b[0m \u001b[43mDrawEvent\u001b[49m\u001b[43m(\u001b[49m\u001b[38;5;124;43m\"\u001b[39;49m\u001b[38;5;124;43mdraw_event\u001b[39;49m\u001b[38;5;124;43m\"\u001b[39;49m\u001b[43m,\u001b[49m\u001b[43m \u001b[49m\u001b[38;5;28;43mself\u001b[39;49m\u001b[38;5;241;43m.\u001b[39;49m\u001b[43mcanvas\u001b[49m\u001b[43m,\u001b[49m\u001b[43m \u001b[49m\u001b[43mrenderer\u001b[49m\u001b[43m)\u001b[49m\u001b[38;5;241;43m.\u001b[39;49m\u001b[43m_process\u001b[49m\u001b[43m(\u001b[49m\u001b[43m)\u001b[49m\n",
      "File \u001b[0;32m~/miniforge3/envs/rl/lib/python3.11/site-packages/matplotlib/backend_bases.py:1271\u001b[0m, in \u001b[0;36mEvent._process\u001b[0;34m(self)\u001b[0m\n\u001b[1;32m   1269\u001b[0m \u001b[38;5;28;01mdef\u001b[39;00m \u001b[38;5;21m_process\u001b[39m(\u001b[38;5;28mself\u001b[39m):\n\u001b[1;32m   1270\u001b[0m \u001b[38;5;250m    \u001b[39m\u001b[38;5;124;03m\"\"\"Process this event on ``self.canvas``, then unset ``guiEvent``.\"\"\"\u001b[39;00m\n\u001b[0;32m-> 1271\u001b[0m     \u001b[38;5;28;43mself\u001b[39;49m\u001b[38;5;241;43m.\u001b[39;49m\u001b[43mcanvas\u001b[49m\u001b[38;5;241;43m.\u001b[39;49m\u001b[43mcallbacks\u001b[49m\u001b[38;5;241;43m.\u001b[39;49m\u001b[43mprocess\u001b[49m\u001b[43m(\u001b[49m\u001b[38;5;28;43mself\u001b[39;49m\u001b[38;5;241;43m.\u001b[39;49m\u001b[43mname\u001b[49m\u001b[43m,\u001b[49m\u001b[43m \u001b[49m\u001b[38;5;28;43mself\u001b[39;49m\u001b[43m)\u001b[49m\n\u001b[1;32m   1272\u001b[0m     \u001b[38;5;28mself\u001b[39m\u001b[38;5;241m.\u001b[39m_guiEvent_deleted \u001b[38;5;241m=\u001b[39m \u001b[38;5;28;01mTrue\u001b[39;00m\n",
      "File \u001b[0;32m~/miniforge3/envs/rl/lib/python3.11/site-packages/matplotlib/cbook.py:303\u001b[0m, in \u001b[0;36mCallbackRegistry.process\u001b[0;34m(self, s, *args, **kwargs)\u001b[0m\n\u001b[1;32m    301\u001b[0m \u001b[38;5;28;01mexcept\u001b[39;00m \u001b[38;5;167;01mException\u001b[39;00m \u001b[38;5;28;01mas\u001b[39;00m exc:\n\u001b[1;32m    302\u001b[0m     \u001b[38;5;28;01mif\u001b[39;00m \u001b[38;5;28mself\u001b[39m\u001b[38;5;241m.\u001b[39mexception_handler \u001b[38;5;129;01mis\u001b[39;00m \u001b[38;5;129;01mnot\u001b[39;00m \u001b[38;5;28;01mNone\u001b[39;00m:\n\u001b[0;32m--> 303\u001b[0m         \u001b[38;5;28;43mself\u001b[39;49m\u001b[38;5;241;43m.\u001b[39;49m\u001b[43mexception_handler\u001b[49m\u001b[43m(\u001b[49m\u001b[43mexc\u001b[49m\u001b[43m)\u001b[49m\n\u001b[1;32m    304\u001b[0m     \u001b[38;5;28;01melse\u001b[39;00m:\n\u001b[1;32m    305\u001b[0m         \u001b[38;5;28;01mraise\u001b[39;00m\n",
      "File \u001b[0;32m~/miniforge3/envs/rl/lib/python3.11/site-packages/matplotlib/cbook.py:87\u001b[0m, in \u001b[0;36m_exception_printer\u001b[0;34m(exc)\u001b[0m\n\u001b[1;32m     85\u001b[0m \u001b[38;5;28;01mdef\u001b[39;00m \u001b[38;5;21m_exception_printer\u001b[39m(exc):\n\u001b[1;32m     86\u001b[0m     \u001b[38;5;28;01mif\u001b[39;00m _get_running_interactive_framework() \u001b[38;5;129;01min\u001b[39;00m [\u001b[38;5;124m\"\u001b[39m\u001b[38;5;124mheadless\u001b[39m\u001b[38;5;124m\"\u001b[39m, \u001b[38;5;28;01mNone\u001b[39;00m]:\n\u001b[0;32m---> 87\u001b[0m         \u001b[38;5;28;01mraise\u001b[39;00m exc\n\u001b[1;32m     88\u001b[0m     \u001b[38;5;28;01melse\u001b[39;00m:\n\u001b[1;32m     89\u001b[0m         traceback\u001b[38;5;241m.\u001b[39mprint_exc()\n",
      "File \u001b[0;32m~/miniforge3/envs/rl/lib/python3.11/site-packages/matplotlib/cbook.py:298\u001b[0m, in \u001b[0;36mCallbackRegistry.process\u001b[0;34m(self, s, *args, **kwargs)\u001b[0m\n\u001b[1;32m    296\u001b[0m \u001b[38;5;28;01mif\u001b[39;00m func \u001b[38;5;129;01mis\u001b[39;00m \u001b[38;5;129;01mnot\u001b[39;00m \u001b[38;5;28;01mNone\u001b[39;00m:\n\u001b[1;32m    297\u001b[0m     \u001b[38;5;28;01mtry\u001b[39;00m:\n\u001b[0;32m--> 298\u001b[0m         \u001b[43mfunc\u001b[49m\u001b[43m(\u001b[49m\u001b[38;5;241;43m*\u001b[39;49m\u001b[43margs\u001b[49m\u001b[43m,\u001b[49m\u001b[43m \u001b[49m\u001b[38;5;241;43m*\u001b[39;49m\u001b[38;5;241;43m*\u001b[39;49m\u001b[43mkwargs\u001b[49m\u001b[43m)\u001b[49m\n\u001b[1;32m    299\u001b[0m     \u001b[38;5;66;03m# this does not capture KeyboardInterrupt, SystemExit,\u001b[39;00m\n\u001b[1;32m    300\u001b[0m     \u001b[38;5;66;03m# and GeneratorExit\u001b[39;00m\n\u001b[1;32m    301\u001b[0m     \u001b[38;5;28;01mexcept\u001b[39;00m \u001b[38;5;167;01mException\u001b[39;00m \u001b[38;5;28;01mas\u001b[39;00m exc:\n",
      "File \u001b[0;32m~/miniforge3/envs/rl/lib/python3.11/site-packages/matplotlib/animation.py:912\u001b[0m, in \u001b[0;36mAnimation._start\u001b[0;34m(self, *args)\u001b[0m\n\u001b[1;32m    909\u001b[0m \u001b[38;5;28mself\u001b[39m\u001b[38;5;241m.\u001b[39m_fig\u001b[38;5;241m.\u001b[39mcanvas\u001b[38;5;241m.\u001b[39mmpl_disconnect(\u001b[38;5;28mself\u001b[39m\u001b[38;5;241m.\u001b[39m_first_draw_id)\n\u001b[1;32m    911\u001b[0m \u001b[38;5;66;03m# Now do any initial draw\u001b[39;00m\n\u001b[0;32m--> 912\u001b[0m \u001b[38;5;28;43mself\u001b[39;49m\u001b[38;5;241;43m.\u001b[39;49m\u001b[43m_init_draw\u001b[49m\u001b[43m(\u001b[49m\u001b[43m)\u001b[49m\n\u001b[1;32m    914\u001b[0m \u001b[38;5;66;03m# Add our callback for stepping the animation and\u001b[39;00m\n\u001b[1;32m    915\u001b[0m \u001b[38;5;66;03m# actually start the event_source.\u001b[39;00m\n\u001b[1;32m    916\u001b[0m \u001b[38;5;28mself\u001b[39m\u001b[38;5;241m.\u001b[39mevent_source\u001b[38;5;241m.\u001b[39madd_callback(\u001b[38;5;28mself\u001b[39m\u001b[38;5;241m.\u001b[39m_step)\n",
      "File \u001b[0;32m~/miniforge3/envs/rl/lib/python3.11/site-packages/matplotlib/animation.py:1749\u001b[0m, in \u001b[0;36mFuncAnimation._init_draw\u001b[0;34m(self)\u001b[0m\n\u001b[1;32m   1741\u001b[0m         warnings\u001b[38;5;241m.\u001b[39mwarn(\n\u001b[1;32m   1742\u001b[0m             \u001b[38;5;124m\"\u001b[39m\u001b[38;5;124mCan not start iterating the frames for the initial draw. \u001b[39m\u001b[38;5;124m\"\u001b[39m\n\u001b[1;32m   1743\u001b[0m             \u001b[38;5;124m\"\u001b[39m\u001b[38;5;124mThis can be caused by passing in a 0 length sequence \u001b[39m\u001b[38;5;124m\"\u001b[39m\n\u001b[0;32m   (...)\u001b[0m\n\u001b[1;32m   1746\u001b[0m             \u001b[38;5;124m\"\u001b[39m\u001b[38;5;124mit may be exhausted due to a previous display or save.\u001b[39m\u001b[38;5;124m\"\u001b[39m\n\u001b[1;32m   1747\u001b[0m         )\n\u001b[1;32m   1748\u001b[0m         \u001b[38;5;28;01mreturn\u001b[39;00m\n\u001b[0;32m-> 1749\u001b[0m     \u001b[38;5;28;43mself\u001b[39;49m\u001b[38;5;241;43m.\u001b[39;49m\u001b[43m_draw_frame\u001b[49m\u001b[43m(\u001b[49m\u001b[43mframe_data\u001b[49m\u001b[43m)\u001b[49m\n\u001b[1;32m   1750\u001b[0m \u001b[38;5;28;01melse\u001b[39;00m:\n\u001b[1;32m   1751\u001b[0m     \u001b[38;5;28mself\u001b[39m\u001b[38;5;241m.\u001b[39m_drawn_artists \u001b[38;5;241m=\u001b[39m \u001b[38;5;28mself\u001b[39m\u001b[38;5;241m.\u001b[39m_init_func()\n",
      "File \u001b[0;32m~/miniforge3/envs/rl/lib/python3.11/site-packages/matplotlib/animation.py:1768\u001b[0m, in \u001b[0;36mFuncAnimation._draw_frame\u001b[0;34m(self, framedata)\u001b[0m\n\u001b[1;32m   1764\u001b[0m     \u001b[38;5;28mself\u001b[39m\u001b[38;5;241m.\u001b[39m_save_seq \u001b[38;5;241m=\u001b[39m \u001b[38;5;28mself\u001b[39m\u001b[38;5;241m.\u001b[39m_save_seq[\u001b[38;5;241m-\u001b[39m\u001b[38;5;28mself\u001b[39m\u001b[38;5;241m.\u001b[39m_save_count:]\n\u001b[1;32m   1766\u001b[0m \u001b[38;5;66;03m# Call the func with framedata and args. If blitting is desired,\u001b[39;00m\n\u001b[1;32m   1767\u001b[0m \u001b[38;5;66;03m# func needs to return a sequence of any artists that were modified.\u001b[39;00m\n\u001b[0;32m-> 1768\u001b[0m \u001b[38;5;28mself\u001b[39m\u001b[38;5;241m.\u001b[39m_drawn_artists \u001b[38;5;241m=\u001b[39m \u001b[38;5;28;43mself\u001b[39;49m\u001b[38;5;241;43m.\u001b[39;49m\u001b[43m_func\u001b[49m\u001b[43m(\u001b[49m\u001b[43mframedata\u001b[49m\u001b[43m,\u001b[49m\u001b[43m \u001b[49m\u001b[38;5;241;43m*\u001b[39;49m\u001b[38;5;28;43mself\u001b[39;49m\u001b[38;5;241;43m.\u001b[39;49m\u001b[43m_args\u001b[49m\u001b[43m)\u001b[49m\n\u001b[1;32m   1770\u001b[0m \u001b[38;5;28;01mif\u001b[39;00m \u001b[38;5;28mself\u001b[39m\u001b[38;5;241m.\u001b[39m_blit:\n\u001b[1;32m   1772\u001b[0m     err \u001b[38;5;241m=\u001b[39m \u001b[38;5;167;01mRuntimeError\u001b[39;00m(\u001b[38;5;124m'\u001b[39m\u001b[38;5;124mThe animation function must return a sequence \u001b[39m\u001b[38;5;124m'\u001b[39m\n\u001b[1;32m   1773\u001b[0m                        \u001b[38;5;124m'\u001b[39m\u001b[38;5;124mof Artist objects.\u001b[39m\u001b[38;5;124m'\u001b[39m)\n",
      "Cell \u001b[0;32mIn[78], line 27\u001b[0m, in \u001b[0;36mupdate\u001b[0;34m(carry)\u001b[0m\n\u001b[1;32m     24\u001b[0m ref\u001b[38;5;241m.\u001b[39mset_3d_properties([track_pos[\u001b[38;5;241m2\u001b[39m]])  \n\u001b[1;32m     26\u001b[0m revert \u001b[38;5;241m=\u001b[39m state\u001b[38;5;241m.\u001b[39mobs[\u001b[38;5;241m-\u001b[39m\u001b[38;5;241m7\u001b[39m:][:\u001b[38;5;241m3\u001b[39m] \u001b[38;5;241m@\u001b[39m np\u001b[38;5;241m.\u001b[39mlinalg\u001b[38;5;241m.\u001b[39minv(state\u001b[38;5;241m.\u001b[39mpipeline_state\u001b[38;5;241m.\u001b[39mxmat[\u001b[38;5;241m0\u001b[39m])\n\u001b[0;32m---> 27\u001b[0m \u001b[38;5;28;01massert\u001b[39;00m np\u001b[38;5;241m.\u001b[39mallclose(track_pos \u001b[38;5;241m-\u001b[39m state\u001b[38;5;241m.\u001b[39mpipeline_state\u001b[38;5;241m.\u001b[39mqpos[:\u001b[38;5;241m3\u001b[39m], revert, atol\u001b[38;5;241m=\u001b[39m\u001b[38;5;241m1e-6\u001b[39m)\n\u001b[1;32m     28\u001b[0m rol\u001b[38;5;241m.\u001b[39mset_data([track_pos[\u001b[38;5;241m0\u001b[39m] \u001b[38;5;241m+\u001b[39m state\u001b[38;5;241m.\u001b[39mobs[\u001b[38;5;241m-\u001b[39m\u001b[38;5;241m7\u001b[39m:][\u001b[38;5;241m0\u001b[39m]], [track_pos[\u001b[38;5;241m1\u001b[39m] \u001b[38;5;241m+\u001b[39m state\u001b[38;5;241m.\u001b[39mobs[\u001b[38;5;241m-\u001b[39m\u001b[38;5;241m7\u001b[39m:][\u001b[38;5;241m1\u001b[39m]])\n\u001b[1;32m     29\u001b[0m rol\u001b[38;5;241m.\u001b[39mset_3d_properties([track_pos[\u001b[38;5;241m2\u001b[39m] \u001b[38;5;241m+\u001b[39m state\u001b[38;5;241m.\u001b[39mobs[\u001b[38;5;241m-\u001b[39m\u001b[38;5;241m7\u001b[39m:][\u001b[38;5;241m2\u001b[39m]])\n",
      "\u001b[0;31mAssertionError\u001b[0m: "
     ]
    },
    {
     "data": {
      "image/png": "[encoded data removed]",
      "text/plain": [
       "<Figure size 640x480 with 1 Axes>"
      ]
     },
     "metadata": {},
     "output_type": "display_data"
    }
   ],
   "source": [
    "# Thanks Claude for this code\n",
    "import matplotlib.pyplot as plt\n",
    "from mpl_toolkits.mplot3d import Axes3D\n",
    "import matplotlib.animation as animation\n",
    "\n",
    "# Set up the figure and 3D axis\n",
    "fig = plt.figure()\n",
    "ax = fig.add_subplot(111, projection='3d')\n",
    "\n",
    "# Set the axis limits\n",
    "ax.set_xlim([-0.3, 0.3])\n",
    "ax.set_ylim([-0.3, 0.3])\n",
    "ax.set_zlim([-0.3, 0.3])\n",
    "\n",
    "# Initialize the point\n",
    "ref, = ax.plot([], [], [], 'ro', markersize=1)\n",
    "rol, = ax.plot([], [], [], 'bo', markersize=1)\n",
    "\n",
    "# Animation update function\n",
    "def update(carry):\n",
    "    state, track_pos = carry\n",
    "    ref.set_data([track_pos[0]], [track_pos[1]])\n",
    "    ref.set_3d_properties([track_pos[2]])  \n",
    "    \n",
    "    revert = np.linalg.inv(state.pipeline_state.xmat[0]) @ state.obs[-7:][:3]\n",
    "    assert np.allclose(track_pos - state.pipeline_state.qpos[:3], revert, atol=1e-6)\n",
    "    rol.set_data([track_pos[0] + state.obs[-7:][0]], [track_pos[1] + state.obs[-7:][1]])\n",
    "    rol.set_3d_properties([track_pos[2] + state.obs[-7:][2]])\n",
    "    return ref, rol\n",
    "\n",
    "# Create the animation\n",
    "ani = animation.FuncAnimation(fig, update, frames=zip(rollout, env._track_pos), interval=50, blit=True)\n",
    "\n",
    "# Save the animation as a GIF\n",
    "ani.save('rat_position_tracking.gif', writer='pillow', fps=100)\n",
    "\n",
    "plt.close(fig)"
   ]
  },
  {
   "cell_type": "code",
   "execution_count": 80,
   "metadata": {},
   "outputs": [
    {
     "ename": "AssertionError",
     "evalue": "",
     "output_type": "error",
     "traceback": [
      "\u001b[0;31m---------------------------------------------------------------------------\u001b[0m",
      "\u001b[0;31mAssertionError\u001b[0m                            Traceback (most recent call last)",
      "Cell \u001b[0;32mIn[80], line 2\u001b[0m\n\u001b[1;32m      1\u001b[0m revert \u001b[38;5;241m=\u001b[39m np\u001b[38;5;241m.\u001b[39mlinalg\u001b[38;5;241m.\u001b[39minv(state\u001b[38;5;241m.\u001b[39mpipeline_state\u001b[38;5;241m.\u001b[39mxmat[\u001b[38;5;241m0\u001b[39m]) \u001b[38;5;241m@\u001b[39m state\u001b[38;5;241m.\u001b[39mobs[\u001b[38;5;241m-\u001b[39m\u001b[38;5;241m7\u001b[39m\u001b[38;5;241m*\u001b[39m\u001b[38;5;241m5\u001b[39m:][:\u001b[38;5;241m3\u001b[39m]\n\u001b[0;32m----> 2\u001b[0m \u001b[38;5;28;01massert\u001b[39;00m np\u001b[38;5;241m.\u001b[39mallclose(env\u001b[38;5;241m.\u001b[39m_track_pos[state\u001b[38;5;241m.\u001b[39minfo[\u001b[38;5;124m'\u001b[39m\u001b[38;5;124mcur_frame\u001b[39m\u001b[38;5;124m'\u001b[39m]] \u001b[38;5;241m-\u001b[39m state\u001b[38;5;241m.\u001b[39mpipeline_state\u001b[38;5;241m.\u001b[39mqpos[:\u001b[38;5;241m3\u001b[39m], revert, atol\u001b[38;5;241m=\u001b[39m\u001b[38;5;241m1e-8\u001b[39m)\n",
      "\u001b[0;31mAssertionError\u001b[0m: "
     ]
    }
   ],
   "source": [
    "revert = np.linalg.inv(state.pipeline_state.xmat[0]) @ state.obs[-35:][:3]\n",
    "assert np.allclose(env._track_pos[state.info['cur_frame']] - state.pipeline_state.qpos[:3], revert, atol=1e-8)"
   ]
  },
  {
   "cell_type": "code",
   "execution_count": 44,
   "metadata": {},
   "outputs": [
    {
     "data": {
      "text/plain": [
       "Array([ 0.02668312,  0.00963982,  0.00365678,  0.07354705,  0.04750727,\n",
       "        0.04865877,  0.03326368,  0.0376247 ,  0.01900179,  0.01720116,\n",
       "        0.00490876,  0.01786475,  0.00469432,  0.01842165,  0.00612925,\n",
       "        0.07880929,  0.05621161,  0.05623355,  0.05488762,  0.04300088,\n",
       "        0.0606983 ,  0.02790296,  0.04077419,  0.02813101,  0.0419216 ,\n",
       "        0.03007138,  0.0429426 ,  0.07854627,  0.07861307,  0.02748809,\n",
       "        0.00816264,  0.00640287,  0.01176222,  0.00704252,  0.00988688,\n",
       "        0.01540634,  0.02137755,  0.01587353,  0.02297394,  0.01571755,\n",
       "        0.02194083,  0.02498014, -0.00109657,  0.00111527,  0.00263967,\n",
       "        0.0002849 ,  0.00068986,  0.01348399,  0.00817339,  0.01384809,\n",
       "        0.00800651,  0.01211086,  0.00725734], dtype=float32)"
      ]
     },
     "execution_count": 44,
     "metadata": {},
     "output_type": "execute_result"
    }
   ],
   "source": [
    "state.pipeline_state.contact.dist"
   ]
  },
  {
   "cell_type": "code",
   "execution_count": null,
   "metadata": {},
   "outputs": [],
   "source": []
  }
 ],
 "metadata": {
  "kernelspec": {
   "display_name": "stac-mjx",
   "language": "python",
   "name": "python3"
  },
  "language_info": {
   "codemirror_mode": {
    "name": "ipython",
    "version": 3
   },
   "file_extension": ".py",
   "mimetype": "text/x-python",
   "name": "python",
   "nbconvert_exporter": "python",
   "pygments_lexer": "ipython3",
   "version": "3.11.8"
  }
 },
 "nbformat": 4,
 "nbformat_minor": 2
}
