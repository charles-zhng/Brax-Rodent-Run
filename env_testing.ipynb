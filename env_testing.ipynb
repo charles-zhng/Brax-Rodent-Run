{
 "cells": [
  {
   "cell_type": "code",
   "execution_count": 46,
   "metadata": {},
   "outputs": [
    {
     "name": "stdout",
     "output_type": "stream",
     "text": [
      "The autoreload extension is already loaded. To reload it, use:\n",
      "  %reload_ext autoreload\n"
     ]
    }
   ],
   "source": [
    "%load_ext autoreload\n",
    "%autoreload 2\n",
    "\n",
    "import jax\n",
    "from brax import envs\n",
    "from Rodent_Env_Brax import Rodent\n",
    "import pickle\n",
    "from preprocessing.mjx_preprocess import process_clip_to_train\n",
    "import pickle\n",
    "import os\n",
    "\n",
    "\n",
    "config = {\n",
    "    \"env_name\": \"rodent\",\n",
    "    \"algo_name\": \"ppo\",\n",
    "    \"task_name\": \"run\",\n",
    "    \"num_envs\": 16,\n",
    "    \"num_timesteps\": 500_000_000,\n",
    "    \"eval_every\": 5_000_000,\n",
    "    \"episode_length\": 200,\n",
    "    \"batch_size\": 16,\n",
    "    \"learning_rate\": 1e-4,\n",
    "    \"physics_steps_per_control_step\": 5,\n",
    "    \"too_far_dist\": 0.1,\n",
    "    \"ctrl_cost_weight\": 0.01,\n",
    "    \"pos_reward_weight\": 100.0,\n",
    "    \"quat_reward_weight\": 3.0,\n",
    "    \"healthy_reward\": 0.25,\n",
    "    \"healthy_z_range\": (0.035, 0.5),\n",
    "    \"terminate_when_unhealthy\": True,\n",
    "    \"run_platform\": \"Harvard\",\n",
    "    \"solver\": \"cg\",\n",
    "    \"iterations\": 7,\n",
    "    \"ls_iterations\": 7,\n",
    "}\n",
    "\n",
    "envs.register_environment(\"rodent\", Rodent)\n",
    "\n",
    "reference_path = f\"clips/84.p\"\n",
    "\n",
    "with open(reference_path, \"rb\") as file:\n",
    "    # Use pickle.load() to load the data from the file\n",
    "    reference_clip = pickle.load(file)"
   ]
  },
  {
   "cell_type": "code",
   "execution_count": 47,
   "metadata": {},
   "outputs": [
    {
     "name": "stdout",
     "output_type": "stream",
     "text": [
      "self._steps_for_cur_frame: 2.0\n"
     ]
    }
   ],
   "source": [
    "# instantiate the environment\n",
    "env_name = config[\"env_name\"]\n",
    "env = envs.get_environment(\n",
    "    env_name,\n",
    "    track_pos=reference_clip.position,\n",
    "    track_quat=reference_clip.quaternion,\n",
    "    terminate_when_unhealthy=config[\"terminate_when_unhealthy\"],\n",
    "    solver=config[\"solver\"],\n",
    "    iterations=config[\"iterations\"],\n",
    "    ls_iterations=config[\"ls_iterations\"],\n",
    "    too_far_dist=config[\"too_far_dist\"],\n",
    "    ctrl_cost_weight=config[\"ctrl_cost_weight\"],\n",
    "    pos_reward_weight=config[\"pos_reward_weight\"],\n",
    "    quat_reward_weight=config[\"quat_reward_weight\"],\n",
    "    healthy_reward=config[\"healthy_reward\"],\n",
    "    healthy_z_range=config[\"healthy_z_range\"],\n",
    "    physics_steps_per_control_step=config[\"physics_steps_per_control_step\"],\n",
    ")"
   ]
  },
  {
   "cell_type": "code",
   "execution_count": 48,
   "metadata": {},
   "outputs": [],
   "source": [
    "jit_reset = jax.jit(env.reset)\n",
    "jit_step = jax.jit(env.step)"
   ]
  },
  {
   "cell_type": "code",
   "execution_count": 49,
   "metadata": {},
   "outputs": [],
   "source": [
    "key = jax.random.PRNGKey(0)\n",
    "state = jit_reset(key)"
   ]
  },
  {
   "cell_type": "code",
   "execution_count": 50,
   "metadata": {},
   "outputs": [],
   "source": [
    "_, key = jax.random.split(key)\n",
    "state = jit_step(state, jax.random.normal(key, (env.sys.nu,)))"
   ]
  },
  {
   "cell_type": "code",
   "execution_count": 51,
   "metadata": {},
   "outputs": [
    {
     "data": {
      "text/plain": [
       "{'cur_frame': Array(8, dtype=int32),\n",
       " 'steps_taken_cur_frame': Array(1, dtype=int32, weak_type=True),\n",
       " 'summed_pos_distance': Array(2.465989e-05, dtype=float32)}"
      ]
     },
     "execution_count": 51,
     "metadata": {},
     "output_type": "execute_result"
    }
   ],
   "source": [
    "state.info"
   ]
  },
  {
   "cell_type": "code",
   "execution_count": 52,
   "metadata": {},
   "outputs": [
    {
     "data": {
      "text/plain": [
       "(167,)"
      ]
     },
     "execution_count": 52,
     "metadata": {},
     "output_type": "execute_result"
    }
   ],
   "source": [
    "state.obs.shape"
   ]
  },
  {
   "cell_type": "code",
   "execution_count": 44,
   "metadata": {},
   "outputs": [
    {
     "data": {
      "text/plain": [
       "Array([ 0.02668312,  0.00963982,  0.00365678,  0.07354705,  0.04750727,\n",
       "        0.04865877,  0.03326368,  0.0376247 ,  0.01900179,  0.01720116,\n",
       "        0.00490876,  0.01786475,  0.00469432,  0.01842165,  0.00612925,\n",
       "        0.07880929,  0.05621161,  0.05623355,  0.05488762,  0.04300088,\n",
       "        0.0606983 ,  0.02790296,  0.04077419,  0.02813101,  0.0419216 ,\n",
       "        0.03007138,  0.0429426 ,  0.07854627,  0.07861307,  0.02748809,\n",
       "        0.00816264,  0.00640287,  0.01176222,  0.00704252,  0.00988688,\n",
       "        0.01540634,  0.02137755,  0.01587353,  0.02297394,  0.01571755,\n",
       "        0.02194083,  0.02498014, -0.00109657,  0.00111527,  0.00263967,\n",
       "        0.0002849 ,  0.00068986,  0.01348399,  0.00817339,  0.01384809,\n",
       "        0.00800651,  0.01211086,  0.00725734], dtype=float32)"
      ]
     },
     "execution_count": 44,
     "metadata": {},
     "output_type": "execute_result"
    }
   ],
   "source": [
    "state.pipeline_state.contact.dist"
   ]
  },
  {
   "cell_type": "code",
   "execution_count": null,
   "metadata": {},
   "outputs": [],
   "source": []
  }
 ],
 "metadata": {
  "kernelspec": {
   "display_name": "stac-mjx",
   "language": "python",
   "name": "python3"
  },
  "language_info": {
   "codemirror_mode": {
    "name": "ipython",
    "version": 3
   },
   "file_extension": ".py",
   "mimetype": "text/x-python",
   "name": "python",
   "nbconvert_exporter": "python",
   "pygments_lexer": "ipython3",
   "version": "3.11.8"
  }
 },
 "nbformat": 4,
 "nbformat_minor": 2
}
